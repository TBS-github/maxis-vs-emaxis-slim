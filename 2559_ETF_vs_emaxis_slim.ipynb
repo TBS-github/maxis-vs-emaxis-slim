{
 "cells": [
  {
   "cell_type": "markdown",
   "metadata": {},
   "source": [
    "# MAXIS全世界株式（オール・カントリー） (2559) ETF vs eMAXIS Slim 全世界株式（オール・カントリー） Mutual Fund\n",
    "\n",
    "MUFG All Country ETF vs eMAXIS Slim All Country mutual fund: which has performed best?\n",
    "\n",
    "Code to download price data."
   ]
  },
  {
   "cell_type": "code",
   "execution_count": 1,
   "metadata": {},
   "outputs": [],
   "source": [
    "import matplotlib.pyplot as plt\n",
    "import pandas as pd\n",
    "import yfinance as yf\n",
    "\n",
    "def url_to_df(url):\n",
    "    return pd.read_csv(url, encoding='cp932', skiprows = 2, parse_dates = [0], index_col = [0],\n",
    "                      names=['date', 'price', 'price_div_reinv', 'div', 'assets'])\n",
    "\n",
    "etf_url = 'https://maxis.mukam.jp/content/csv/fundCsv.php?fund_cd=182559' # link from https://maxis.mukam.jp/etf_fund/182559.html\n",
    "mutual_url = 'https://emaxis.jp/content/csv/fundCsv.php?fund_cd=253425' # link from https://emaxis.jp/fund/253425.html\n",
    "\n",
    "ind = 'MSCI_ACWI'\n",
    "\n",
    "etf = url_to_df(etf_url)\n",
    "mutual = url_to_df(mutual_url)\n",
    "\n",
    "start_date = etf.index.min()\n",
    "mutual = mutual[mutual.index >= start_date] # match date range of mutual data to ETF data\n",
    "mutual.to_csv('mutual_' + ind + '.csv', index=True)\n",
    "\n",
    "# Spreadsheet data downloaded from https://www.msci.com/end-of-day-data-search then processed manually into TSV file\n",
    "file = 'MSCI_ACWI_Standard_Large_Mid_Cap.tsv'\n",
    "benchmark_tr = pd.read_csv(file, sep='\\t', index_col='Date', parse_dates=True)\n",
    "benchmark_tr = benchmark_tr[benchmark_tr.index >= start_date] \n",
    "\n",
    "# Daily USDJPY FX rates used to rebased the USD-based index to JPY\n",
    "usdjpy = yf.Ticker('JPY=X').history(start=str(start_date).split()[0])\n",
    "usdjpy = usdjpy[usdjpy.index.isin(benchmark_tr.index)] # cut down data to match dates in benchmark\n",
    "\n",
    "# Create columns with the JPY-based benchmark indices\n",
    "benchmark_tr['Gross_jpy'] = usdjpy['Close'] * benchmark_tr['Gross']\n",
    "benchmark_tr['Net_jpy'] = usdjpy['Close'] * benchmark_tr['Net']\n",
    "\n",
    "benchmark_tr.to_csv('benchmark_tr_' + ind + '.csv', index=True)"
   ]
  },
  {
   "cell_type": "markdown",
   "metadata": {},
   "source": [
    "Create a dividends table for the ETF. Add dividend pay dates, foreign tax data, and calculate net dividends (net of foreign tax and domestic tax, with foreign tax credit claimed)."
   ]
  },
  {
   "cell_type": "code",
   "execution_count": 2,
   "metadata": {},
   "outputs": [
    {
     "data": {
      "text/html": [
       "<div>\n",
       "<style scoped>\n",
       "    .dataframe tbody tr th:only-of-type {\n",
       "        vertical-align: middle;\n",
       "    }\n",
       "\n",
       "    .dataframe tbody tr th {\n",
       "        vertical-align: top;\n",
       "    }\n",
       "\n",
       "    .dataframe thead th {\n",
       "        text-align: right;\n",
       "    }\n",
       "</style>\n",
       "<table border=\"1\" class=\"dataframe\">\n",
       "  <thead>\n",
       "    <tr style=\"text-align: right;\">\n",
       "      <th></th>\n",
       "      <th>div</th>\n",
       "      <th>pay_date</th>\n",
       "      <th>foreign_tax_rate</th>\n",
       "      <th>net_div</th>\n",
       "    </tr>\n",
       "    <tr>\n",
       "      <th>date</th>\n",
       "      <th></th>\n",
       "      <th></th>\n",
       "      <th></th>\n",
       "      <th></th>\n",
       "    </tr>\n",
       "  </thead>\n",
       "  <tbody>\n",
       "    <tr>\n",
       "      <th>2020-06-08</th>\n",
       "      <td>39.0</td>\n",
       "      <td>2020-07-17</td>\n",
       "      <td>0.100813</td>\n",
       "      <td>34.210123</td>\n",
       "    </tr>\n",
       "    <tr>\n",
       "      <th>2020-12-08</th>\n",
       "      <td>64.0</td>\n",
       "      <td>2021-01-15</td>\n",
       "      <td>0.100813</td>\n",
       "      <td>56.139689</td>\n",
       "    </tr>\n",
       "    <tr>\n",
       "      <th>2021-06-08</th>\n",
       "      <td>75.0</td>\n",
       "      <td>2021-07-16</td>\n",
       "      <td>0.100000</td>\n",
       "      <td>65.740125</td>\n",
       "    </tr>\n",
       "  </tbody>\n",
       "</table>\n",
       "</div>"
      ],
      "text/plain": [
       "             div   pay_date  foreign_tax_rate    net_div\n",
       "date                                                    \n",
       "2020-06-08  39.0 2020-07-17          0.100813  34.210123\n",
       "2020-12-08  64.0 2021-01-15          0.100813  56.139689\n",
       "2021-06-08  75.0 2021-07-16          0.100000  65.740125"
      ]
     },
     "execution_count": 2,
     "metadata": {},
     "output_type": "execute_result"
    }
   ],
   "source": [
    "jp_income_tax_rate = 0.15315\n",
    "jp_inhabitant_tax_rate = 0.05\n",
    "\n",
    "dividends = etf[etf['div'].notna()]['div'].copy().to_frame()\n",
    "dividends['pay_date'] = pd.to_datetime(['2020-07-17', '2021-01-15', '2021-07-16'])\n",
    "# couldn't find foreign tax rate for first dividend, so using the second dividend rate to approximate it\n",
    "# second dividend foreign tax rate source: https://mrmarket-japan.com/tousihoka/etf-toushin-double-taxation/\n",
    "# used reasonable approximation for third dividend tax rate\n",
    "dividends['foreign_tax_rate'] = [0.1008127489, 0.1008127489, 0.1]\n",
    "dividends['net_div'] = (dividends['div'] * (dividends['foreign_tax_rate']+1) * \n",
    "                        (1-jp_income_tax_rate-jp_inhabitant_tax_rate))\n",
    "dividends.head()"
   ]
  },
  {
   "cell_type": "markdown",
   "metadata": {},
   "source": [
    "Calculate growth of net dividends reinvested on pay date."
   ]
  },
  {
   "cell_type": "code",
   "execution_count": 3,
   "metadata": {},
   "outputs": [],
   "source": [
    "for i, (_, row) in enumerate(dividends.iterrows()):\n",
    "    etf['div_'+str(i)] = 0.0\n",
    "    div = row['net_div']\n",
    "    pay_date = row['pay_date']\n",
    "    buy_price =  etf.loc[pay_date, 'price'] \n",
    "    etf.loc[etf.index >= pay_date, 'div_'+str(i)] = div*etf.loc[etf.index >= pay_date, 'price']/buy_price\n",
    "\n",
    "etf.to_csv('etf_' + ind + '.csv', index=True)"
   ]
  },
  {
   "cell_type": "markdown",
   "metadata": {},
   "source": [
    "Create function to calculate the return of the ETF based on lump sum investment on chosen date, subsequently reinvesting the net dividends on pay date."
   ]
  },
  {
   "cell_type": "code",
   "execution_count": 4,
   "metadata": {},
   "outputs": [],
   "source": [
    "def etf_return(df, date):\n",
    "    date = pd.to_datetime(date)\n",
    "    investment = df['price'].copy()\n",
    "    for i, index in enumerate(dividends.index):\n",
    "        if date > index:\n",
    "            continue\n",
    "        investment += df['div_'+str(i)]\n",
    "        \n",
    "    return investment"
   ]
  },
  {
   "cell_type": "markdown",
   "metadata": {},
   "source": [
    "Function to return a data series of prices normalized to a chosen date."
   ]
  },
  {
   "cell_type": "code",
   "execution_count": 5,
   "metadata": {},
   "outputs": [],
   "source": [
    "def normlize_to_date(series, date):\n",
    "    return (series/series.loc[date]).copy()"
   ]
  },
  {
   "cell_type": "markdown",
   "metadata": {},
   "source": [
    "Calculate the growths of the mutual and the ETF funds, and their difference, based on initial investment on date."
   ]
  },
  {
   "cell_type": "code",
   "execution_count": 6,
   "metadata": {},
   "outputs": [],
   "source": [
    "def grow(mutual, etf, date):\n",
    "    date = pd.to_datetime(date)\n",
    "\n",
    "    mutual_growth = normlize_to_date(mutual['price'], date)\n",
    "    etf_growth = normlize_to_date(etf_return(etf, date), date)\n",
    "\n",
    "    growth_difference = (mutual_growth - etf_growth)*100\n",
    "    \n",
    "    return mutual_growth, etf_growth, growth_difference"
   ]
  },
  {
   "cell_type": "markdown",
   "metadata": {},
   "source": [
    "Plot the results and save the figure:"
   ]
  },
  {
   "cell_type": "code",
   "execution_count": 7,
   "metadata": {},
   "outputs": [
    {
     "data": {
      "image/png": "[encoded data removed]",
      "text/plain": [
       "<Figure size 432x288 with 1 Axes>"
      ]
     },
     "metadata": {
      "needs_background": "light"
     },
     "output_type": "display_data"
    }
   ],
   "source": [
    "date = '2020-01-08'\n",
    "mutual_growth, etf_growth, growth_difference = grow(mutual, etf, date)\n",
    "\n",
    "ax = growth_difference.plot()\n",
    "ax.set_ylabel('mutual growth minus ETF growth (%)')\n",
    "fig = plt.gcf()\n",
    "fig.suptitle('eMAXIS Slim ' + ind + ' mutual vs MAXIS ' + ind + ' ETF')\n",
    "fig.savefig('slim_vs_2559_growth.png', dpi=100)"
   ]
  },
  {
   "cell_type": "markdown",
   "metadata": {},
   "source": [
    "Plot the performance of the funds against the benchmark index:"
   ]
  },
  {
   "cell_type": "code",
   "execution_count": 8,
   "metadata": {},
   "outputs": [
    {
     "data": {
      "image/png": "[encoded data removed]",
      "text/plain": [
       "<Figure size 432x288 with 1 Axes>"
      ]
     },
     "metadata": {
      "needs_background": "light"
     },
     "output_type": "display_data"
    }
   ],
   "source": [
    "ax = mutual_growth.plot(label='eMAXIS Slim')\n",
    "etf_growth.plot(ax=ax, label='MAXIS ETF')\n",
    "normlize_to_date(benchmark_tr['Gross_jpy'], date).plot(ax=ax, label=ind + ' TR Gross')\n",
    "normlize_to_date(benchmark_tr['Net_jpy'], date).plot(ax=ax, label=ind + ' TR Net')\n",
    "ax.legend()\n",
    "ax.set_ylabel('Relative performance')\n",
    "fig = plt.gcf()\n",
    "fig.suptitle('Lump sum invested on ' + date)\n",
    "fig.savefig('slim_vs_2559_benchmark.png', dpi=100)"
   ]
  },
  {
   "cell_type": "markdown",
   "metadata": {},
   "source": [
    "Some checks of the annual growth figures for the year running from the end of September 2020 against numbers from last graph on https://shintaro-money.com/maxis-ac-2559/:"
   ]
  },
  {
   "cell_type": "code",
   "execution_count": 9,
   "metadata": {},
   "outputs": [
    {
     "data": {
      "text/plain": [
       "1.356404140676715"
      ]
     },
     "execution_count": 9,
     "metadata": {},
     "output_type": "execute_result"
    }
   ],
   "source": [
    "start_date = '2020-09-30'\n",
    "end_date = '2021-09-30'\n",
    "\n",
    "# ETF paying Japan taxes on dividends (with foreign tax credit)\n",
    "((etf.loc[end_date, 'price']\n",
    "  +etf.loc[end_date, 'div_0']\n",
    "  +etf.loc[end_date, 'div_1'])\n",
    " /etf.loc[start_date, 'price'])"
   ]
  },
  {
   "cell_type": "code",
   "execution_count": 10,
   "metadata": {},
   "outputs": [
    {
     "data": {
      "text/plain": [
       "1.3608531482804367"
      ]
     },
     "execution_count": 10,
     "metadata": {},
     "output_type": "execute_result"
    }
   ],
   "source": [
    "# ETF assuming no Japan taxes on dividends\n",
    "etf.loc[end_date, 'price_div_reinv']/etf.loc[start_date, 'price_div_reinv']"
   ]
  },
  {
   "cell_type": "code",
   "execution_count": 11,
   "metadata": {},
   "outputs": [
    {
     "data": {
      "text/plain": [
       "1.3633891763880361"
      ]
     },
     "execution_count": 11,
     "metadata": {},
     "output_type": "execute_result"
    }
   ],
   "source": [
    "# Mutual fund\n",
    "mutual.loc[end_date, 'price']/mutual.loc[start_date, 'price']"
   ]
  },
  {
   "cell_type": "code",
   "execution_count": 12,
   "metadata": {},
   "outputs": [
    {
     "data": {
      "text/plain": [
       "1.3557751792010904"
      ]
     },
     "execution_count": 12,
     "metadata": {},
     "output_type": "execute_result"
    }
   ],
   "source": [
    "# Benchmark total returns index (gross)\n",
    "benchmark_tr.loc[end_date, 'Gross_jpy']/benchmark_tr.loc[start_date, 'Gross_jpy']"
   ]
  },
  {
   "cell_type": "code",
   "execution_count": 13,
   "metadata": {},
   "outputs": [
    {
     "data": {
      "text/plain": [
       "1.349997367672186"
      ]
     },
     "execution_count": 13,
     "metadata": {},
     "output_type": "execute_result"
    }
   ],
   "source": [
    "# Benchmark total returns index (net)\n",
    "benchmark_tr.loc[end_date, 'Net_jpy']/benchmark_tr.loc[start_date, 'Net_jpy']"
   ]
  },
  {
   "cell_type": "markdown",
   "metadata": {},
   "source": [
    "These middle two numbers agree with the numbers from the final 騰落率 vs 実質コスト graph on the Shintaro website. The final number two numbers (ACWI TR Gross and Net) are a little off compared to Shintaro money, but still reasonable.\n",
    "\n",
    "Conclusion: the ETF lagged the mutual by about 0.70% for the one year period from the end of September 2020, i.e. slightly more than the 0.25% reported on the Shintaro website. "
   ]
  }
 ],
 "metadata": {
  "kernelspec": {
   "display_name": "Python 3 (ipykernel)",
   "language": "python",
   "name": "python3"
  },
  "language_info": {
   "codemirror_mode": {
    "name": "ipython",
    "version": 3
   },
   "file_extension": ".py",
   "mimetype": "text/x-python",
   "name": "python",
   "nbconvert_exporter": "python",
   "pygments_lexer": "ipython3",
   "version": "3.9.7"
  }
 },
 "nbformat": 4,
 "nbformat_minor": 4
}
